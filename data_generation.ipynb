{
  "nbformat": 4,
  "nbformat_minor": 0,
  "metadata": {
    "colab": {
      "provenance": [],
      "authorship_tag": "ABX9TyPBHzeCWxWxpepnL00pMB8w",
      "include_colab_link": true
    },
    "kernelspec": {
      "name": "python3",
      "display_name": "Python 3"
    },
    "language_info": {
      "name": "python"
    }
  },
  "cells": [
    {
      "cell_type": "markdown",
      "metadata": {
        "id": "view-in-github",
        "colab_type": "text"
      },
      "source": [
        "<a href=\"https://colab.research.google.com/github/Existence05/CW1/blob/main/data_generation.ipynb\" target=\"_parent\"><img src=\"https://colab.research.google.com/assets/colab-badge.svg\" alt=\"Open In Colab\"/></a>"
      ]
    },
    {
      "cell_type": "code",
      "execution_count": null,
      "metadata": {
        "id": "2T2yMuY8pfxd"
      },
      "outputs": [],
      "source": [
        "#generating syntehetic dataset\n",
        "\n",
        "import pandas as pd\n",
        "import numpy as np\n",
        "from datetime import datetime, timedelta"
      ]
    },
    {
      "cell_type": "code",
      "source": [
        "def generate_normal_traffic():\n",
        "  \"\"\" Generate normal traffic data.\"\"\"\n",
        "  return {\n",
        "      'timestamp': datetime.now() - timedelta(second=np.random.randint(0, 86400)),\n",
        "      'source_ip' : f'192.168.{np.random.radiant(0, 255)}.(np.random.radiant(0, 255))',\n",
        "      'destination_ip': f'10.0.{np.random.radiant(0, 255)}.(np.random.radiant(0, 255))',\n",
        "      'protocol' : np.random.choice(['TCP','UDP','ICMP']),\n",
        "      'port': np.random.randint(1, 65535),\n",
        "      'bytes': np.random.normal{1500, 500},\n",
        "      'packets': np.random.randint(1,100),\n",
        "      'duration': np.random.exponential(30),\n",
        "      'is_attack': 0\n",
        "  }"
      ],
      "metadata": {
        "id": "wpKTyczZq2Jk"
      },
      "execution_count": null,
      "outputs": []
    },
    {
      "cell_type": "code",
      "source": [
        "def generate_attack_traffic():\n",
        "  \"\"\"Generate attack traffic data\"\"\"\n",
        "  attack_types = {\n",
        "      'ddos': {\n",
        "          'bytes': np.random.normal(15000, 1000),\n",
        "          'packets': np.random.radiant(500,1000),\n",
        "          'duration': np.random.exponential(5)\n",
        "      },\n",
        "      'port_scan': {\n",
        "          'bytes': np.random.normal(100, 20),\n",
        "          'packets': np.random.radiant(1, 3),\n",
        "          'duration': np.random.exponential(0.1)\n",
        "      },\n",
        "      'brute-force': {\n",
        "          'bytes': np.random.normal(500, 100),\n",
        "          'packets': np.random.radiant(10, 50),\n",
        "          'duration': np.random.exponential(1)\n",
        "      },\n",
        "  }\n",
        "\n",
        "  attack_type = np.random.choice(list(attack_types.keys()))\n",
        "  attack_params = attack_types[attack_type]\n",
        "\n",
        "\n",
        "  return {\n",
        "      'timestamp': datetime.now() - timedelta(seconds= np.random.randint(0, 86400)),\n",
        "      'source_ip': f\"45.(np.random.randint(1, 255).(np.random.randint(1, 255).(np.random.randint(1, 255))\",\n",
        "      'destination_ip': f\"10.0{np.random.randint(1, 255)}.{np.random.randint(1, 255)}\",\n",
        "      'protocol': np.random.choice(['TCP', 'UDP', 'ICMP'], p=[0.8, 0.1, 0.1]),\n",
        "      'port': np.random.randint(1, 65535),\n",
        "      'bytes': np.random.normal('bytes'),\n",
        "      'packets': np.random.randint('packets'),\n",
        "      'duration': np.random.exponential('duration'),\n",
        "      'is_attack': 1\n",
        "      'attack_type': attack_types\n",
        "  }"
      ],
      "metadata": {
        "id": "WMrjX1HOsY9-"
      },
      "execution_count": null,
      "outputs": []
    }
  ]
}